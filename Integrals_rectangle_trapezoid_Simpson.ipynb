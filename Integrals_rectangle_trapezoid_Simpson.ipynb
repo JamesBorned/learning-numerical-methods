{
  "nbformat": 4,
  "nbformat_minor": 0,
  "metadata": {
    "colab": {
      "provenance": [],
      "authorship_tag": "ABX9TyOUV9Y9ra0UIp17FuQvi+3y"
    },
    "kernelspec": {
      "name": "python3",
      "display_name": "Python 3"
    },
    "language_info": {
      "name": "python"
    }
  },
  "cells": [
    {
      "cell_type": "markdown",
      "source": [
        "#Лабораторная работа №3"
      ],
      "metadata": {
        "id": "49FZpiulGnEY"
      }
    },
    {
      "cell_type": "code",
      "source": [
        "import numpy as np\n",
        "import math"
      ],
      "metadata": {
        "id": "oKLzEqztCCYz"
      },
      "execution_count": null,
      "outputs": []
    },
    {
      "cell_type": "markdown",
      "source": [
        "##Приближённое вычисление интегралов"
      ],
      "metadata": {
        "id": "ADoM4iKcEWOZ"
      }
    },
    {
      "cell_type": "code",
      "source": [
        "def f(x):\n",
        "  return math.log(x) / x"
      ],
      "metadata": {
        "id": "dXMyplMVCe-_"
      },
      "execution_count": null,
      "outputs": []
    },
    {
      "cell_type": "code",
      "source": [
        "def F(x):\n",
        "  return pow(math.log(x),2)/2"
      ],
      "metadata": {
        "id": "8P1YL60SDNgf"
      },
      "execution_count": null,
      "outputs": []
    },
    {
      "cell_type": "code",
      "source": [
        "def df(x):\n",
        "  return (1 - math.log(x))/pow(x,2)"
      ],
      "metadata": {
        "id": "EkQHOEMyMlzQ"
      },
      "execution_count": null,
      "outputs": []
    },
    {
      "cell_type": "code",
      "source": [
        "def ddf(x):\n",
        "  return (-3 + 2*math.log(x))/pow(x,3)"
      ],
      "metadata": {
        "id": "eq1VyScpkb5s"
      },
      "execution_count": null,
      "outputs": []
    },
    {
      "cell_type": "code",
      "source": [
        "def d4f(x):\n",
        "  return (-50 + 24*np.log(x))/pow(x,5)"
      ],
      "metadata": {
        "id": "CqXcidKEjzjk"
      },
      "execution_count": null,
      "outputs": []
    },
    {
      "cell_type": "code",
      "source": [
        "a = 1\n",
        "b = 5\n",
        "n = 10"
      ],
      "metadata": {
        "id": "iESm8AK-DhkH"
      },
      "execution_count": null,
      "outputs": []
    },
    {
      "cell_type": "code",
      "source": [
        "integral_value_exact = F(b) - F(a)\n",
        "print(\"Точное значение определенного интеграла:\", integral_value_exact)"
      ],
      "metadata": {
        "colab": {
          "base_uri": "https://localhost:8080/"
        },
        "id": "27uQbsxiDri4",
        "outputId": "0cdf1adf-cd9f-48e3-b9fa-bedade339eeb"
      },
      "execution_count": null,
      "outputs": [
        {
          "output_type": "stream",
          "name": "stdout",
          "text": [
            "Точное значение определенного интеграла: 1.2951451969901173\n"
          ]
        }
      ]
    },
    {
      "cell_type": "markdown",
      "source": [
        "###Метод прямоугольников"
      ],
      "metadata": {
        "id": "wwgnsewcIXM9"
      }
    },
    {
      "cell_type": "markdown",
      "source": [
        "Левых:"
      ],
      "metadata": {
        "id": "ukmPwMaKrext"
      }
    },
    {
      "cell_type": "code",
      "source": [
        "def left_rectangles_method(a, b, n, f, tol=1e-4, error_abs = 0):\n",
        "    integral_value_prev = 0\n",
        "    integral_value_current = tol\n",
        "    df_values = np.array([])\n",
        "    h = 0\n",
        "    while abs(integral_value_prev - integral_value_current) >= tol:\n",
        "      integral_value_prev = integral_value_current\n",
        "      h = (b - a) / n\n",
        "      integral_value_current = 0\n",
        "      for i in range(0, n-1):\n",
        "          integral_value_current += f(a + i*h) * h\n",
        "          df_values = np.append(df_values,abs(df(a + i*h)))\n",
        "      n *= 2  # Удваиваивание количества подотрезков для следующей итерации\n",
        "    error_abs = np.max(df_values) * (b-a) * h/2\n",
        "    return integral_value_current, h, n, error_abs"
      ],
      "metadata": {
        "id": "FH60pLMR9YE5"
      },
      "execution_count": null,
      "outputs": []
    },
    {
      "cell_type": "code",
      "source": [
        "n = 1000"
      ],
      "metadata": {
        "id": "_6K52TtnVFlG"
      },
      "execution_count": null,
      "outputs": []
    },
    {
      "cell_type": "code",
      "source": [
        "integral_value_approximate, last_step, amount_of_points, error_abs = left_rectangles_method(a, b, n, f)"
      ],
      "metadata": {
        "id": "H0pLkppqXOwZ"
      },
      "execution_count": null,
      "outputs": []
    },
    {
      "cell_type": "code",
      "source": [
        "error_relative = np.abs((integral_value_exact - integral_value_approximate)/ integral_value_approximate)*100"
      ],
      "metadata": {
        "id": "Y6VOhp9sYpW7"
      },
      "execution_count": null,
      "outputs": []
    },
    {
      "cell_type": "code",
      "source": [
        "print('Точное значение определенного интеграла: {:.5f}'.format(integral_value_exact))\n",
        "print('Приближённое значение определенного интеграла: {:.5f}'.format(integral_value_approximate))\n",
        "print(\"Величина последнего шага интегрирования:\", last_step)\n",
        "print(\"Количество точек разбиения:\", amount_of_points)\n",
        "print(\"Абсолютная погрешность:\", error_abs)\n",
        "print('Относительная погрешность: {:.6f}'.format(error_relative))"
      ],
      "metadata": {
        "colab": {
          "base_uri": "https://localhost:8080/"
        },
        "id": "4chcrFNdFIgn",
        "outputId": "a5e1b91e-cb92-4f93-945c-7d565c569767"
      },
      "execution_count": null,
      "outputs": [
        {
          "output_type": "stream",
          "name": "stdout",
          "text": [
            "Точное значение определенного интеграла: 1.29515\n",
            "Приближённое значение определенного интеграла: 1.29508\n",
            "Величина последнего шага интегрирования: 0.000125\n",
            "Количество точек разбиения: 64000\n",
            "Абсолютная погрешность: 0.00025\n",
            "Относительная погрешность: 0.004660\n"
          ]
        }
      ]
    },
    {
      "cell_type": "markdown",
      "source": [
        "Правых:"
      ],
      "metadata": {
        "id": "9-PpVWc7cB4K"
      }
    },
    {
      "cell_type": "code",
      "source": [
        "def right_rectangles_method(a, b, n, f, tol=1e-4, error_abs = 0):\n",
        "    integral_value_prev = 0\n",
        "    integral_value_current = tol\n",
        "    df_values = np.array([])\n",
        "    h = 0\n",
        "    while abs(integral_value_prev - integral_value_current) >= tol:\n",
        "      integral_value_prev = integral_value_current\n",
        "      h = (b - a) / n\n",
        "      integral_value_current = 0\n",
        "      for i in range(1, n):\n",
        "          integral_value_current += f(a + i*h) * h\n",
        "          df_values = np.append(df_values,abs(df(a + i*h)))\n",
        "      n *= 2  # Удваиваивание количества подотрезков для следующей итерации\n",
        "    error_abs = np.max(df_values) * (b-a) * h/2\n",
        "    return integral_value_current, h, n, error_abs"
      ],
      "metadata": {
        "id": "GT9uFZhvcJNH"
      },
      "execution_count": null,
      "outputs": []
    },
    {
      "cell_type": "code",
      "source": [
        "integral_value_approximate, last_step, amount_of_points, error_abs = right_rectangles_method(a, b, n, f)"
      ],
      "metadata": {
        "id": "BVtBSrBydnKH"
      },
      "execution_count": null,
      "outputs": []
    },
    {
      "cell_type": "code",
      "source": [
        "error_relative = np.abs((integral_value_exact - integral_value_approximate)/ integral_value_approximate)*100"
      ],
      "metadata": {
        "id": "uj8GrTCedtnV"
      },
      "execution_count": null,
      "outputs": []
    },
    {
      "cell_type": "code",
      "source": [
        "print('Точное значение определенного интеграла: {:.5f}'.format(integral_value_exact))\n",
        "print('Приближённое значение определенного интеграла: {:.5f}'.format(integral_value_approximate))\n",
        "print(\"Величина последнего шага интегрирования:\", last_step)\n",
        "print(\"Количество точек разбиения:\", amount_of_points)\n",
        "print('Абсолютная погрешность:{:.6f}'.format(error_abs))\n",
        "print('Относительная погрешность: {:.6f}'.format(error_relative))"
      ],
      "metadata": {
        "colab": {
          "base_uri": "https://localhost:8080/"
        },
        "id": "0gowsQb2d6qq",
        "outputId": "bfbcca63-f50e-42e5-8232-e29cfeef4d98"
      },
      "execution_count": null,
      "outputs": [
        {
          "output_type": "stream",
          "name": "stdout",
          "text": [
            "Точное значение определенного интеграла: 1.29515\n",
            "Приближённое значение определенного интеграла: 1.29506\n",
            "Величина последнего шага интегрирования: 0.0005\n",
            "Количество точек разбиения: 16000\n",
            "Абсолютная погрешность:0.000999\n",
            "Относительная погрешность: 0.006215\n"
          ]
        }
      ]
    },
    {
      "cell_type": "markdown",
      "source": [
        "Средних:"
      ],
      "metadata": {
        "id": "ACVFhohDhidR"
      }
    },
    {
      "cell_type": "code",
      "source": [
        "def middle_rectangles_method(a, b, n, f, tol=1e-4, error_abs = 0):\n",
        "    integral_value_prev = 0\n",
        "    integral_value_current = tol\n",
        "    ddf_values = np.array([])\n",
        "    h = 0\n",
        "    while abs(integral_value_prev - integral_value_current) >= tol:\n",
        "      integral_value_prev = integral_value_current\n",
        "      h = (b - a) / n\n",
        "      integral_value_current = 0\n",
        "      for i in range(1, n):\n",
        "          integral_value_current += f(a + (i-1)*h + h/2) * h\n",
        "          ddf_values = np.append(ddf_values,abs(ddf(a + (i-1)*h)/24))\n",
        "      n *= 2  # Удваиваивание количества подотрезков для следующей итерации\n",
        "    ddf_values = np.append(ddf_values,abs(ddf(a + n*h)/24))\n",
        "    error_abs = np.max(ddf_values) * (b-a) * pow(h, 2)\n",
        "    return integral_value_current, h, n, error_abs"
      ],
      "metadata": {
        "id": "ib2DpNrWjDK6"
      },
      "execution_count": null,
      "outputs": []
    },
    {
      "cell_type": "code",
      "source": [
        "integral_value_approximate, last_step, amount_of_points, error_abs = middle_rectangles_method(a, b, n, f)"
      ],
      "metadata": {
        "id": "2SVN6b9ulsje"
      },
      "execution_count": null,
      "outputs": []
    },
    {
      "cell_type": "code",
      "source": [
        "error_relative = np.abs((integral_value_exact - integral_value_approximate)/ integral_value_approximate)*100"
      ],
      "metadata": {
        "id": "VCrYY1bgl1Od"
      },
      "execution_count": null,
      "outputs": []
    },
    {
      "cell_type": "code",
      "source": [
        "print('Точное значение определенного интеграла: {:.5f}'.format(integral_value_exact))\n",
        "print('Приближённое значение определенного интеграла: {:.5f}'.format(integral_value_approximate))\n",
        "print(\"Величина последнего шага интегрирования:\", last_step)\n",
        "print(\"Количество точек разбиения:\", amount_of_points)\n",
        "print('Абсолютная погрешность:{:.11f}'.format(error_abs))\n",
        "print('Относительная погрешность: {:.6f}'.format(error_relative))"
      ],
      "metadata": {
        "colab": {
          "base_uri": "https://localhost:8080/"
        },
        "id": "-iazN-Ivl2-Z",
        "outputId": "e0f5c682-1bd6-45cf-9110-60f802473d27"
      },
      "execution_count": null,
      "outputs": [
        {
          "output_type": "stream",
          "name": "stdout",
          "text": [
            "Точное значение определенного интеграла: 1.29515\n",
            "Приближённое значение определенного интеграла: 1.29506\n",
            "Величина последнего шага интегрирования: 0.00025\n",
            "Количество точек разбиения: 32000\n",
            "Абсолютная погрешность:0.00000003125\n",
            "Относительная погрешность: 0.006214\n"
          ]
        }
      ]
    },
    {
      "cell_type": "markdown",
      "source": [
        "###Метод трапеций"
      ],
      "metadata": {
        "id": "bmalO7FooPOp"
      }
    },
    {
      "cell_type": "code",
      "source": [
        "def trapezoid_method(a, b, n, f, tol=1e-4, error_abs = 0):\n",
        "    integral_value_prev = 0\n",
        "    integral_value_current = tol\n",
        "    ddf_values = np.array([])\n",
        "    h = 0\n",
        "    while abs(integral_value_prev - integral_value_current) >= tol:\n",
        "      integral_value_prev = integral_value_current\n",
        "      h = (b - a) / n\n",
        "      integral_value_current = 0\n",
        "      for i in range(1, n-1):\n",
        "          integral_value_current += f(a + i*h) * h\n",
        "          ddf_values = np.append(ddf_values,abs(ddf(a + i*h)/12))\n",
        "      n *= 2  # Удваиваивание количества подотрезков для следующей итерации\n",
        "    ddf_values = np.append(ddf_values,abs(ddf(a + n*h)/12))\n",
        "    ddf_values = np.append(ddf_values,abs(ddf(a)/12))\n",
        "    error_abs = np.max(ddf_values) * (b-a) * pow(h, 2)\n",
        "    integral_value_current += h*(f(a)+f(b))/2\n",
        "    return integral_value_current, h, n, error_abs"
      ],
      "metadata": {
        "id": "IKk0dD7qo1t5"
      },
      "execution_count": null,
      "outputs": []
    },
    {
      "cell_type": "code",
      "source": [
        "integral_value_approximate, last_step, amount_of_points, error_abs = trapezoid_method(a, b, n, f)"
      ],
      "metadata": {
        "id": "0JkKA6b0qed9"
      },
      "execution_count": null,
      "outputs": []
    },
    {
      "cell_type": "code",
      "source": [
        "error_relative = np.abs((integral_value_exact - integral_value_approximate)/ integral_value_approximate)*100"
      ],
      "metadata": {
        "id": "Yck3QNOVqfuK"
      },
      "execution_count": null,
      "outputs": []
    },
    {
      "cell_type": "code",
      "source": [
        "print('Точное значение определенного интеграла: {:.5f}'.format(integral_value_exact))\n",
        "print('Приближённое значение определенного интеграла: {:.5f}'.format(integral_value_approximate))\n",
        "print(\"Величина последнего шага интегрирования:\", last_step)\n",
        "print(\"Количество точек разбиения:\", amount_of_points)\n",
        "print('Абсолютная погрешность:{:.11f}'.format(error_abs))\n",
        "print('Относительная погрешность: {:.6f}'.format(error_relative))"
      ],
      "metadata": {
        "colab": {
          "base_uri": "https://localhost:8080/"
        },
        "id": "z3YJRfnGqgv8",
        "outputId": "3e1ce822-7339-4d58-b439-d3e86fafaaa0"
      },
      "execution_count": null,
      "outputs": [
        {
          "output_type": "stream",
          "name": "stdout",
          "text": [
            "Точное значение определенного интеграла: 1.29515\n",
            "Приближённое значение определенного интеграла: 1.29510\n",
            "Величина последнего шага интегрирования: 0.000125\n",
            "Количество точек разбиения: 64000\n",
            "Абсолютная погрешность:0.00000001562\n",
            "Относительная погрешность: 0.003107\n"
          ]
        }
      ]
    },
    {
      "cell_type": "markdown",
      "source": [
        "###Метод Симпсона"
      ],
      "metadata": {
        "id": "7eTeCm0YWXr_"
      }
    },
    {
      "cell_type": "code",
      "source": [
        "def simpsons_rule(f, a, b, n):\n",
        "    h = (b - a) / n\n",
        "    integral = f(a) + f(b)\n",
        "    for i in range(1, n):\n",
        "        x_i = a + i * h\n",
        "        if i % 2 == 0:\n",
        "            integral += 2 * f(x_i)\n",
        "        else:\n",
        "            integral += 4 * f(x_i)\n",
        "\n",
        "    return integral * h / 3, h\n",
        "\n",
        "def adaptive_simpsons_rule(f, a, b, tol):\n",
        "    n = 1000\n",
        "    prev_integral = simpsons_rule(f, a, b, n)\n",
        "    while True:\n",
        "        n *= 2\n",
        "        integral, h = simpsons_rule(f, a, b, n)\n",
        "        step_size = (b - a) / n\n",
        "        abs_error = abs(integral - prev_integral)\n",
        "        if (abs_error < tol).all():\n",
        "            print(\"Количество точек разбиения:\", n)\n",
        "            print(\"Величина последнего шага интегрирования:\", step_size)\n",
        "            tmp = max(abs(d4f(a + np.arange(n) * h))) * (b - a) * h**4 / 2880\n",
        "            print('Абсолютная погрешность:{:.20f}'.format(tmp))\n",
        "            return integral\n",
        "        prev_integral = integral\n"
      ],
      "metadata": {
        "id": "2NUD0JJIDiMS"
      },
      "execution_count": null,
      "outputs": []
    },
    {
      "cell_type": "code",
      "source": [
        "integral_value_approximate = adaptive_simpsons_rule(f, a, b, 1e-4)\n",
        "error_relative = np.abs((integral_value_exact - integral_value_approximate)/ integral_value_approximate)*100\n",
        "print('Точное значение определенного интеграла: {:.5f}'.format(integral_value_exact))\n",
        "print('Относительная погрешность: {:.15f}'.format(error_relative))\n",
        "print('Приближённое значение определенного интеграла: {:.5f}'.format(integral_value_approximate))\n"
      ],
      "metadata": {
        "colab": {
          "base_uri": "https://localhost:8080/"
        },
        "id": "sDT49v1GDpxz",
        "outputId": "6db8c3f7-f099-4417-e973-986dcb0223c9"
      },
      "execution_count": null,
      "outputs": [
        {
          "output_type": "stream",
          "name": "stdout",
          "text": [
            "Количество точек разбиения: 4000\n",
            "Величина последнего шага интегрирования: 0.001\n",
            "Абсолютная погрешность:0.00000000000006944444\n",
            "Точное значение определенного интеграла: 1.29515\n",
            "Относительная погрешность: 0.000000000004903\n",
            "Приближённое значение определенного интеграла: 1.29515\n"
          ]
        }
      ]
    }
  ]
}