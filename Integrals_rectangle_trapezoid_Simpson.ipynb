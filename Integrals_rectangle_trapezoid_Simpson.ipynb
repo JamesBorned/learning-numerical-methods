{
  "nbformat": 4,
  "nbformat_minor": 0,
  "metadata": {
    "colab": {
      "provenance": [],
      "authorship_tag": "ABX9TyPtaBeP5rWMsx9v2f/eAUBF"
    },
    "kernelspec": {
      "name": "python3",
      "display_name": "Python 3"
    },
    "language_info": {
      "name": "python"
    }
  },
  "cells": [
    {
      "cell_type": "markdown",
      "source": [
        "#Лабораторная работа №3"
      ],
      "metadata": {
        "id": "49FZpiulGnEY"
      }
    },
    {
      "cell_type": "code",
      "source": [
        "import numpy as np\n",
        "import math"
      ],
      "metadata": {
        "id": "oKLzEqztCCYz"
      },
      "execution_count": 184,
      "outputs": []
    },
    {
      "cell_type": "markdown",
      "source": [
        "##Приближённое вычисление интегралов"
      ],
      "metadata": {
        "id": "ADoM4iKcEWOZ"
      }
    },
    {
      "cell_type": "code",
      "source": [
        "def f(x):\n",
        "  return math.log(x) / x"
      ],
      "metadata": {
        "id": "dXMyplMVCe-_"
      },
      "execution_count": 185,
      "outputs": []
    },
    {
      "cell_type": "code",
      "source": [
        "def F(x):\n",
        "  return pow(math.log(x),2)/2"
      ],
      "metadata": {
        "id": "8P1YL60SDNgf"
      },
      "execution_count": 186,
      "outputs": []
    },
    {
      "cell_type": "code",
      "source": [
        "def df(x):\n",
        "  return (1 - math.log(x))/pow(x,2)"
      ],
      "metadata": {
        "id": "EkQHOEMyMlzQ"
      },
      "execution_count": 187,
      "outputs": []
    },
    {
      "cell_type": "code",
      "source": [
        "a = 1\n",
        "b = 5"
      ],
      "metadata": {
        "id": "iESm8AK-DhkH"
      },
      "execution_count": 188,
      "outputs": []
    },
    {
      "cell_type": "code",
      "source": [
        "integral_value_exact = F(b) - F(a)\n",
        "print(\"Точное значение определенного интеграла:\", integral_value_exact)"
      ],
      "metadata": {
        "colab": {
          "base_uri": "https://localhost:8080/"
        },
        "id": "27uQbsxiDri4",
        "outputId": "4459a945-0ead-42fc-deea-5950eec5eab6"
      },
      "execution_count": 189,
      "outputs": [
        {
          "output_type": "stream",
          "name": "stdout",
          "text": [
            "Точное значение определенного интеграла: 1.2951451969901173\n"
          ]
        }
      ]
    },
    {
      "cell_type": "markdown",
      "source": [
        "###Метод прямоугольников"
      ],
      "metadata": {
        "id": "wwgnsewcIXM9"
      }
    },
    {
      "cell_type": "markdown",
      "source": [
        "Левых:"
      ],
      "metadata": {
        "id": "ukmPwMaKrext"
      }
    },
    {
      "cell_type": "code",
      "source": [
        "def left_rectangles_method(a, b, n, f, precision=1e-4, error_abs = 0):\n",
        "    integral_value_prev = 0\n",
        "    integral_value_current = precision\n",
        "    df_values = np.array([])\n",
        "    h = 0\n",
        "    while abs(integral_value_prev - integral_value_current) >= precision:\n",
        "      integral_value_prev = integral_value_current\n",
        "      h = (b - a) / n\n",
        "      integral_value_current = 0\n",
        "      for i in range(0, n-1):\n",
        "          integral_value_current += f(a + i*h) * h\n",
        "          df_values = np.append(df_values,abs(df(a + i*h)))\n",
        "      n *= 2  # Удваиваивание количества подотрезков для следующей итерации\n",
        "    error_abs = np.max(df_values) * (b-a) * h/2\n",
        "    return integral_value_current, h, n, error_abs"
      ],
      "metadata": {
        "id": "FH60pLMR9YE5"
      },
      "execution_count": 196,
      "outputs": []
    },
    {
      "cell_type": "code",
      "source": [
        "n = 1000"
      ],
      "metadata": {
        "id": "_6K52TtnVFlG"
      },
      "execution_count": 197,
      "outputs": []
    },
    {
      "cell_type": "code",
      "source": [
        "integral_value_approximate, last_step, amount_of_points, error_abs = left_rectangles_method(a, b, n, f)"
      ],
      "metadata": {
        "id": "H0pLkppqXOwZ"
      },
      "execution_count": 198,
      "outputs": []
    },
    {
      "cell_type": "code",
      "source": [
        "error_relative = np.abs((integral_value_exact - integral_value_approximate)/ integral_value_approximate)*100"
      ],
      "metadata": {
        "id": "Y6VOhp9sYpW7"
      },
      "execution_count": 200,
      "outputs": []
    },
    {
      "cell_type": "code",
      "source": [
        "print('Точное значение определенного интеграла: {:.5f}'.format(integral_value_exact))\n",
        "print('Приближённое значение определенного интеграла: {:.5f}'.format(integral_value_approximate))\n",
        "print(\"Величина последнего шага интегрирования:\", last_step)\n",
        "print(\"Количество точек разбиения:\", amount_of_points)\n",
        "print(\"Абсолютная погрешность:\", error_abs)\n",
        "print('Относительная погрешность: {:.6f}'.format(error_relative))"
      ],
      "metadata": {
        "colab": {
          "base_uri": "https://localhost:8080/"
        },
        "id": "4chcrFNdFIgn",
        "outputId": "0f442260-76b2-4ead-e97b-37a0144900f6"
      },
      "execution_count": 205,
      "outputs": [
        {
          "output_type": "stream",
          "name": "stdout",
          "text": [
            "Точное значение определенного интеграла: 1.29515\n",
            "Приближённое значение определенного интеграла: 1.29508\n",
            "Величина последнего шага интегрирования: 0.000125\n",
            "Количество точек разбиения: 64000\n",
            "Абсолютная погрешность: 0.00025\n",
            "Относительная погрешность: 0.004660\n"
          ]
        }
      ]
    }
  ]
}