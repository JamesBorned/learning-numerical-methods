{
  "nbformat": 4,
  "nbformat_minor": 0,
  "metadata": {
    "colab": {
      "provenance": [],
      "authorship_tag": "ABX9TyOZnShT51H7rwLLzpthiyPv"
    },
    "kernelspec": {
      "name": "python3",
      "display_name": "Python 3"
    },
    "language_info": {
      "name": "python"
    }
  },
  "cells": [
    {
      "cell_type": "markdown",
      "source": [
        "#Лабораторная работа №2"
      ],
      "metadata": {
        "id": "BMoS4BPhlyk7"
      }
    },
    {
      "cell_type": "markdown",
      "source": [
        "##Численное решение систем линейных алгебраических уравнений"
      ],
      "metadata": {
        "id": "fFJPgtrKl8wY"
      }
    },
    {
      "cell_type": "code",
      "source": [
        "from math import *\n",
        "import numpy as np\n",
        "import time as t\n",
        "import matplotlib.pyplot as plt"
      ],
      "metadata": {
        "id": "BHnUXwFjzggo"
      },
      "execution_count": 2,
      "outputs": []
    },
    {
      "cell_type": "markdown",
      "source": [
        "Метод Гаусса с выбором главного элемента"
      ],
      "metadata": {
        "id": "QVkmusiAmP1n"
      }
    },
    {
      "cell_type": "code",
      "source": [
        "n = 4\n",
        "A = np.array([[1.85, 0.70, -0.12, -0.18],\n",
        "              [0.16, 0.19, 0.79, 0.11],\n",
        "              [1.13, 2.77, 0.18, -0.20],\n",
        "              [1.14, 1.01, 0.55, 3.22]])\n",
        "b = np.array([-0.49,1.27,5.675,6.765])"
      ],
      "metadata": {
        "id": "pZYcjJ-hOIRu"
      },
      "execution_count": 3,
      "outputs": []
    },
    {
      "cell_type": "code",
      "source": [
        "num_eliminated_x = 0\n",
        "num_equation = num_eliminated_x + 1\n",
        "num_compared_current_a = num_eliminated_x + 1\n",
        "num_max_a = num_eliminated_x\n",
        "while True:\n",
        "  while True:\n",
        "    if abs(A[num_compared_current_a][num_eliminated_x]) > abs(A[num_max_a][num_eliminated_x]):\n",
        "      num_max_a = num_compared_current_a\n",
        "    if num_compared_current_a < n - 1:\n",
        "      num_compared_current_a = num_compared_current_a + 1\n",
        "    else:\n",
        "      break\n",
        "  while True:\n",
        "    if num_max_a == num_eliminated_x:\n",
        "      break\n",
        "    column = num_eliminated_x\n",
        "    while True:\n",
        "      A[num_eliminated_x][column] = A[num_equation][column]\n",
        "      if column < n-1:\n",
        "        column = column + 1\n",
        "      else:\n",
        "        b[num_eliminated_x] = b[num_equation]\n",
        "        break\n",
        "  while True:\n",
        "    factor = A[num_equation][num_eliminated_x]/A[num_eliminated_x][num_eliminated_x]\n",
        "    A[num_equation][num_eliminated_x] = 0\n",
        "    column = num_eliminated_x + 1\n",
        "    while True:\n",
        "      A[num_equation][column] = A[num_equation][column] - factor*A[num_eliminated_x][column]\n",
        "      if column < n - 1:\n",
        "        column = column + 1\n",
        "      else:\n",
        "        break\n",
        "    b[num_equation] = b[num_equation] - factor*b[num_eliminated_x]\n",
        "    if num_equation < n - 1:\n",
        "      num_equation = num_equation + 1\n",
        "    else:\n",
        "      break\n",
        "  if num_eliminated_x < n - 2:\n",
        "    num_eliminated_x = num_eliminated_x + 1\n",
        "  else:\n",
        "    break"
      ],
      "metadata": {
        "id": "EcC9hZk08_HW",
        "outputId": "15725363-b94a-4057-e693-7ae32ae54b5e",
        "colab": {
          "base_uri": "https://localhost:8080/",
          "height": 211
        }
      },
      "execution_count": 4,
      "outputs": [
        {
          "output_type": "error",
          "ename": "KeyboardInterrupt",
          "evalue": "",
          "traceback": [
            "\u001b[0;31m---------------------------------------------------------------------------\u001b[0m",
            "\u001b[0;31mKeyboardInterrupt\u001b[0m                         Traceback (most recent call last)",
            "\u001b[0;32m<ipython-input-4-61fc3dfee58d>\u001b[0m in \u001b[0;36m<cell line: 5>\u001b[0;34m()\u001b[0m\n\u001b[1;32m     11\u001b[0m     \u001b[0;32melse\u001b[0m\u001b[0;34m:\u001b[0m\u001b[0;34m\u001b[0m\u001b[0;34m\u001b[0m\u001b[0m\n\u001b[1;32m     12\u001b[0m       \u001b[0;32mbreak\u001b[0m\u001b[0;34m\u001b[0m\u001b[0;34m\u001b[0m\u001b[0m\n\u001b[0;32m---> 13\u001b[0;31m   \u001b[0;32mwhile\u001b[0m \u001b[0;32mTrue\u001b[0m\u001b[0;34m:\u001b[0m\u001b[0;34m\u001b[0m\u001b[0;34m\u001b[0m\u001b[0m\n\u001b[0m\u001b[1;32m     14\u001b[0m     \u001b[0;32mif\u001b[0m \u001b[0mnum_max_a\u001b[0m \u001b[0;34m==\u001b[0m \u001b[0mnum_eliminated_x\u001b[0m\u001b[0;34m:\u001b[0m\u001b[0;34m\u001b[0m\u001b[0;34m\u001b[0m\u001b[0m\n\u001b[1;32m     15\u001b[0m       \u001b[0;32mbreak\u001b[0m\u001b[0;34m\u001b[0m\u001b[0;34m\u001b[0m\u001b[0m\n",
            "\u001b[0;31mKeyboardInterrupt\u001b[0m: "
          ]
        }
      ]
    },
    {
      "cell_type": "code",
      "source": [
        "x = np.array([0, 0, 0, 0])"
      ],
      "metadata": {
        "id": "O7ko_F26OrIJ"
      },
      "execution_count": null,
      "outputs": []
    },
    {
      "cell_type": "code",
      "source": [
        "print(A)"
      ],
      "metadata": {
        "id": "-c65YkY2PbNm",
        "outputId": "04248783-e95a-4ecd-dd90-8ac9d4ef0299",
        "colab": {
          "base_uri": "https://localhost:8080/"
        }
      },
      "execution_count": null,
      "outputs": [
        {
          "output_type": "stream",
          "name": "stdout",
          "text": [
            "[[ 1.85        0.7        -0.12       -0.18      ]\n",
            " [ 0.          2.34243243  0.2532973  -0.09005405]\n",
            " [ 0.          0.          0.56137418  3.35316488]\n",
            " [ 0.          0.          0.          0.        ]]\n"
          ]
        }
      ]
    },
    {
      "cell_type": "code",
      "source": [
        "def gauss_elimination_pivot(A, b):\n",
        "  n = len(b)\n",
        "\n",
        "  for i in range(n):\n",
        "    max_index = i\n",
        "    max_val = abs(A[i, i])\n",
        "\n",
        "    for j in range(i+1, n):\n",
        "      if abs(A[j, i]) > max_val:\n",
        "        max_index = j\n",
        "        max_val = abs(A[j, i])\n",
        "\n",
        "    A[[i, max_index]] = A[[max_index, i]]\n",
        "    b[i], b[max_index] = b[max_index], b[i]\n",
        "\n",
        "    for j in range(i+1, n):\n",
        "      factor = A[j, i] / A[i, i]\n",
        "      b[j] -= factor * b[i]\n",
        "      A[j, i:] = A[j, i:] - factor * A[i, i:]\n",
        "\n",
        "  print('Преобразованная верхнетреугольная матрица:')\n",
        "  print(A)\n",
        "  print(b)\n",
        "\n",
        "  x = np.zeros(n)\n",
        "  for i in range(n-1, -1, -1):\n",
        "    x[i] = (b[i] - np.dot(A[i, i+1:], x[i+1:])) / A[i, i]\n",
        "\n",
        "  return x"
      ],
      "metadata": {
        "id": "1INJoQcgme_U"
      },
      "execution_count": 18,
      "outputs": []
    },
    {
      "cell_type": "code",
      "source": [
        "A = np.array([[1.85, 0.70, -0.12, -0.18],\n",
        "              [0.16, 0.19, 0.79, 0.11],\n",
        "              [1.13, 2.77, 0.18, -0.20],\n",
        "              [1.14, 1.01, 0.55, 3.22]])\n",
        "b = np.array([-0.49,1.27,5.675,6.765])"
      ],
      "metadata": {
        "id": "BAiBLjCB_-ll"
      },
      "execution_count": 19,
      "outputs": []
    },
    {
      "cell_type": "code",
      "source": [
        "x = gauss_elimination_pivot(A, b)\n",
        "print(\"Решение:\", x)"
      ],
      "metadata": {
        "id": "n6klzbvB_5vl",
        "outputId": "5dac4c45-0c7c-4bfa-8281-450fd3095ddb",
        "colab": {
          "base_uri": "https://localhost:8080/"
        }
      },
      "execution_count": 24,
      "outputs": [
        {
          "output_type": "stream",
          "name": "stdout",
          "text": [
            "Преобразованная верхнетреугольная матрица:\n",
            "[[ 1.85        0.7        -0.12       -0.18      ]\n",
            " [ 0.          2.34243243  0.2532973  -0.09005405]\n",
            " [ 0.          0.          0.78637937  0.13054459]\n",
            " [ 0.          0.          0.          3.25997275]]\n",
            "[-0.49        5.9742973   0.98219626  4.88995913]\n",
            "Решение: [-1.   2.5  1.   1.5]\n"
          ]
        }
      ]
    },
    {
      "cell_type": "code",
      "source": [
        "r = x.dot(A)\n",
        "print(r)"
      ],
      "metadata": {
        "id": "Edl0WNtZB3_5",
        "outputId": "9721a3e7-7b44-47dc-e014-1b2b0c191379",
        "colab": {
          "base_uri": "https://localhost:8080/"
        }
      },
      "execution_count": 32,
      "outputs": [
        {
          "output_type": "stream",
          "name": "stdout",
          "text": [
            "[-1.85        5.15608108  1.53962261  4.97536859]\n"
          ]
        }
      ]
    },
    {
      "cell_type": "code",
      "source": [
        "print(r - b)"
      ],
      "metadata": {
        "id": "JBRJ-InBDq69",
        "outputId": "9a540027-6cd1-4c16-cb0d-b03d4713f89d",
        "colab": {
          "base_uri": "https://localhost:8080/"
        }
      },
      "execution_count": 27,
      "outputs": [
        {
          "output_type": "stream",
          "name": "stdout",
          "text": [
            "[-1.36       -0.81821622  0.55742635  0.08540946]\n"
          ]
        }
      ]
    },
    {
      "cell_type": "code",
      "source": [
        "x_changed = gauss_elimination_pivot(A, r-b)\n",
        "print(\"Решение: \", x_changed)"
      ],
      "metadata": {
        "id": "3MXGSO-GEQlF",
        "outputId": "c8c7ae52-9590-48f1-a3e6-45380d025035",
        "colab": {
          "base_uri": "https://localhost:8080/"
        }
      },
      "execution_count": 29,
      "outputs": [
        {
          "output_type": "stream",
          "name": "stdout",
          "text": [
            "Преобразованная верхнетреугольная матрица:\n",
            "[[ 1.85        0.7        -0.12       -0.18      ]\n",
            " [ 0.          2.34243243  0.2532973  -0.09005405]\n",
            " [ 0.          0.          0.78637937  0.13054459]\n",
            " [ 0.          0.          0.          3.25997275]]\n",
            "[-1.36       -0.81821622  0.55742635  0.08540946]\n",
            "Решение:  [-0.52627616 -0.4244756   0.7045024   0.02619944]\n"
          ]
        }
      ]
    },
    {
      "cell_type": "code",
      "source": [
        "print(b - r)"
      ],
      "metadata": {
        "id": "RMqJdpgDEwJ7",
        "outputId": "b494a4eb-17ae-4017-97f5-86a0e956b8c9",
        "colab": {
          "base_uri": "https://localhost:8080/"
        }
      },
      "execution_count": 31,
      "outputs": [
        {
          "output_type": "stream",
          "name": "stdout",
          "text": [
            "[ 1.36        0.81821622 -0.55742635 -0.08540946]\n"
          ]
        }
      ]
    },
    {
      "cell_type": "markdown",
      "source": [
        "Метод Зейделя"
      ],
      "metadata": {
        "id": "FMWjX_eQoNi4"
      }
    },
    {
      "cell_type": "code",
      "source": [
        "def seidel(A, b, x0, tol=1e-8, max_iter=1000):\n",
        "    n = len(A)\n",
        "    x = x0[:]\n",
        "    for k in range(max_iter):\n",
        "        x_new = x[:]\n",
        "        for i in range(n):\n",
        "            sum1 = sum(A[i][j] * x_new[j] for j in range(i))\n",
        "            sum2 = sum(A[i][j] * x[j] for j in range(i+1, n))\n",
        "            x[i] = (b[i] - sum1 - sum2) / A[i][i]\n",
        "        if all(abs(x[i] - x_new[i]) < tol for i in range(n)):\n",
        "            return x\n",
        "    raise ValueError(\"Seidel method did not converge\")\n",
        "\n",
        "x0 = [0, 0, 0, 0]\n",
        "\n",
        "x = seidel(A, b, x0)\n",
        "print(\"Solution:\", x)"
      ],
      "metadata": {
        "id": "6j8jr73goQK8",
        "colab": {
          "base_uri": "https://localhost:8080/"
        },
        "outputId": "eca2d6f7-1f3c-44cd-fd69-98992d21b9f4"
      },
      "execution_count": 35,
      "outputs": [
        {
          "output_type": "stream",
          "name": "stdout",
          "text": [
            "Solution: [1.8571428544819355, 1.4285714235156775, 0.8571428544819355, 0]\n"
          ]
        }
      ]
    }
  ]
}