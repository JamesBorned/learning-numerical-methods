{
  "nbformat": 4,
  "nbformat_minor": 0,
  "metadata": {
    "colab": {
      "provenance": [],
      "authorship_tag": "ABX9TyOx08YMJeVtovkbFCT8hBSs"
    },
    "kernelspec": {
      "name": "python3",
      "display_name": "Python 3"
    },
    "language_info": {
      "name": "python"
    }
  },
  "cells": [
    {
      "cell_type": "markdown",
      "source": [
        "#Лабораторная работа №2"
      ],
      "metadata": {
        "id": "BMoS4BPhlyk7"
      }
    },
    {
      "cell_type": "markdown",
      "source": [
        "##Численное решение систем линейных алгебраических уравнений"
      ],
      "metadata": {
        "id": "fFJPgtrKl8wY"
      }
    },
    {
      "cell_type": "code",
      "source": [
        "from math import *\n",
        "import numpy as np\n",
        "import time as t\n",
        "import matplotlib.pyplot as plt"
      ],
      "metadata": {
        "id": "BHnUXwFjzggo"
      },
      "execution_count": 47,
      "outputs": []
    },
    {
      "cell_type": "markdown",
      "source": [
        "Метод Гаусса с выбором главного элемента"
      ],
      "metadata": {
        "id": "QVkmusiAmP1n"
      }
    },
    {
      "cell_type": "code",
      "source": [
        "n = 4\n",
        "A = np.array([[1.85, 0.70, -0.12, -0.18],\n",
        "              [0.16, 0.19, 0.79, 0.11],\n",
        "              [1.13, 2.77, 0.18, -0.20],\n",
        "              [1.14, 1.01, 0.55, 3.22]])\n",
        "b = np.array([-0.49,1.27,5.675,6.765])"
      ],
      "metadata": {
        "id": "pZYcjJ-hOIRu"
      },
      "execution_count": 48,
      "outputs": []
    },
    {
      "cell_type": "code",
      "source": [
        "num_eliminated_x = 0\n",
        "num_equation = num_eliminated_x + 1\n",
        "num_compared_current_a = num_eliminated_x + 1\n",
        "num_max_a = num_eliminated_x\n",
        "while True:\n",
        "  while True:\n",
        "    if abs(A[num_compared_current_a][num_eliminated_x]) > abs(A[num_max_a][num_eliminated_x]):\n",
        "      num_max_a = num_compared_current_a\n",
        "    if num_compared_current_a < n - 1:\n",
        "      num_compared_current_a = num_compared_current_a + 1\n",
        "    else:\n",
        "      break\n",
        "  while True:\n",
        "    if num_max_a == num_eliminated_x:\n",
        "      break\n",
        "    column = num_eliminated_x\n",
        "    while True:\n",
        "      A[num_eliminated_x][column] = A[num_equation][column]\n",
        "      if column < n-1:\n",
        "        column = column + 1\n",
        "      else:\n",
        "        b[num_eliminated_x] = b[num_equation]\n",
        "        break\n",
        "  while True:\n",
        "    factor = A[num_equation][num_eliminated_x]/A[num_eliminated_x][num_eliminated_x]\n",
        "    A[num_equation][num_eliminated_x] = 0\n",
        "    column = num_eliminated_x + 1\n",
        "    while True:\n",
        "      A[num_equation][column] = A[num_equation][column] - factor*A[num_eliminated_x][column]\n",
        "      if column < n - 1:\n",
        "        column = column + 1\n",
        "      else:\n",
        "        break\n",
        "    b[num_equation] = b[num_equation] - factor*b[num_eliminated_x]\n",
        "    if num_equation < n - 1:\n",
        "      num_equation = num_equation + 1\n",
        "    else:\n",
        "      break\n",
        "  if num_eliminated_x < n - 2:\n",
        "    num_eliminated_x = num_eliminated_x + 1\n",
        "  else:\n",
        "    break"
      ],
      "metadata": {
        "id": "EcC9hZk08_HW",
        "outputId": "6eff04b3-f4c0-4f05-8302-95be4302bd68",
        "colab": {
          "base_uri": "https://localhost:8080/",
          "height": 211
        }
      },
      "execution_count": 58,
      "outputs": [
        {
          "output_type": "error",
          "ename": "KeyboardInterrupt",
          "evalue": "",
          "traceback": [
            "\u001b[0;31m---------------------------------------------------------------------------\u001b[0m",
            "\u001b[0;31mKeyboardInterrupt\u001b[0m                         Traceback (most recent call last)",
            "\u001b[0;32m<ipython-input-58-61fc3dfee58d>\u001b[0m in \u001b[0;36m<cell line: 5>\u001b[0;34m()\u001b[0m\n\u001b[1;32m     17\u001b[0m     \u001b[0;32mwhile\u001b[0m \u001b[0;32mTrue\u001b[0m\u001b[0;34m:\u001b[0m\u001b[0;34m\u001b[0m\u001b[0;34m\u001b[0m\u001b[0m\n\u001b[1;32m     18\u001b[0m       \u001b[0mA\u001b[0m\u001b[0;34m[\u001b[0m\u001b[0mnum_eliminated_x\u001b[0m\u001b[0;34m]\u001b[0m\u001b[0;34m[\u001b[0m\u001b[0mcolumn\u001b[0m\u001b[0;34m]\u001b[0m \u001b[0;34m=\u001b[0m \u001b[0mA\u001b[0m\u001b[0;34m[\u001b[0m\u001b[0mnum_equation\u001b[0m\u001b[0;34m]\u001b[0m\u001b[0;34m[\u001b[0m\u001b[0mcolumn\u001b[0m\u001b[0;34m]\u001b[0m\u001b[0;34m\u001b[0m\u001b[0;34m\u001b[0m\u001b[0m\n\u001b[0;32m---> 19\u001b[0;31m       \u001b[0;32mif\u001b[0m \u001b[0mcolumn\u001b[0m \u001b[0;34m<\u001b[0m \u001b[0mn\u001b[0m\u001b[0;34m-\u001b[0m\u001b[0;36m1\u001b[0m\u001b[0;34m:\u001b[0m\u001b[0;34m\u001b[0m\u001b[0;34m\u001b[0m\u001b[0m\n\u001b[0m\u001b[1;32m     20\u001b[0m         \u001b[0mcolumn\u001b[0m \u001b[0;34m=\u001b[0m \u001b[0mcolumn\u001b[0m \u001b[0;34m+\u001b[0m \u001b[0;36m1\u001b[0m\u001b[0;34m\u001b[0m\u001b[0;34m\u001b[0m\u001b[0m\n\u001b[1;32m     21\u001b[0m       \u001b[0;32melse\u001b[0m\u001b[0;34m:\u001b[0m\u001b[0;34m\u001b[0m\u001b[0;34m\u001b[0m\u001b[0m\n",
            "\u001b[0;31mKeyboardInterrupt\u001b[0m: "
          ]
        }
      ]
    },
    {
      "cell_type": "code",
      "source": [
        "x = np.array([0, 0, 0, 0])"
      ],
      "metadata": {
        "id": "O7ko_F26OrIJ"
      },
      "execution_count": 54,
      "outputs": []
    },
    {
      "cell_type": "code",
      "source": [
        "print(A)"
      ],
      "metadata": {
        "id": "-c65YkY2PbNm",
        "outputId": "04248783-e95a-4ecd-dd90-8ac9d4ef0299",
        "colab": {
          "base_uri": "https://localhost:8080/"
        }
      },
      "execution_count": 55,
      "outputs": [
        {
          "output_type": "stream",
          "name": "stdout",
          "text": [
            "[[ 1.85        0.7        -0.12       -0.18      ]\n",
            " [ 0.          2.34243243  0.2532973  -0.09005405]\n",
            " [ 0.          0.          0.56137418  3.35316488]\n",
            " [ 0.          0.          0.          0.        ]]\n"
          ]
        }
      ]
    },
    {
      "cell_type": "code",
      "source": [
        "def gauss_elimination_pivot(A, b):\n",
        "  n = len(b)\n",
        "\n",
        "  for i in range(n):\n",
        "    max_index = i\n",
        "    max_val = abs(A[i, i])\n",
        "\n",
        "    for j in range(i+1, n):\n",
        "      if abs(A[j, i]) > max_val:\n",
        "        max_index = j\n",
        "        max_val = abs(A[j, i])\n",
        "\n",
        "    A[[i, max_index]] = A[[max_index, i]]\n",
        "    b[i], b[max_index] = b[max_index], b[i]\n",
        "\n",
        "    for j in range(i+1, n):\n",
        "      factor = A[j, i] / A[i, i]\n",
        "      b[j] -= factor * b[i]\n",
        "      A[j, i:] = A[j, i:] - factor * A[i, i:]\n",
        "\n",
        "  x = np.zeros(n)\n",
        "  for i in range(n-1, -1, -1):\n",
        "    x[i] = (b[i] - np.dot(A[i, i+1:], x[i+1:])) / A[i, i]\n",
        "\n",
        "  print(A)\n",
        "  print(b)\n",
        "\n",
        "  return x\n",
        "\n",
        "A = np.array([[1.85, 0.70, -0.12, -0.18],[0.16, 0.19, 0.79, 0.11],[1.13, 2.77, 0.18, -0.20],[1.14, 1.01, 0.55, 3.22]])\n",
        "b = np.array([-0.49,1.27,5.675,6.765])\n",
        "\n",
        "x = gauss_elimination_pivot(A, b)\n",
        "print(\"Solution:\", x)"
      ],
      "metadata": {
        "id": "1INJoQcgme_U",
        "colab": {
          "base_uri": "https://localhost:8080/"
        },
        "outputId": "7f429b6d-fbce-4b86-c851-130faaee00f2"
      },
      "execution_count": null,
      "outputs": [
        {
          "output_type": "stream",
          "name": "stdout",
          "text": [
            "[[ 1.85        0.7        -0.12       -0.18      ]\n",
            " [ 0.          2.34243243  0.2532973  -0.09005405]\n",
            " [ 0.          0.          0.78637937  0.13054459]\n",
            " [ 0.          0.          0.          3.25997275]]\n",
            "[-0.49        5.9742973   0.98219626  4.88995913]\n",
            "Solution: [-1.   2.5  1.   1.5]\n"
          ]
        }
      ]
    },
    {
      "cell_type": "markdown",
      "source": [
        "Метод Зейделя"
      ],
      "metadata": {
        "id": "FMWjX_eQoNi4"
      }
    },
    {
      "cell_type": "code",
      "source": [
        "def seidel(A, b, x0, tol=1e-6, max_iter=1000):\n",
        "  n = len(b)\n",
        "  x = x0.copy()\n",
        "\n",
        "  for k in range(max_iter):\n",
        "    x_new = np.zeros(n)\n",
        "    for i in range(n):\n",
        "      x_new[i] = (b[i] - np.dot(A[i, :], x_new) + A[i, i]*x[i]) / A[i, i]\n",
        "\n",
        "    if np.linalg.norm(x_new - x) < tol:\n",
        "      return x_new\n",
        "\n",
        "    x = x_new\n",
        "\n",
        "A = np.array([[1.85, 0.70, -0.12, -0.18],[0.16, 0.19, 0.79, 0.11],[1.13, 2.77, 0.18, -0.20],[1.14, 1.01, 0.55, 3.22]])\n",
        "b = np.array([-0.49,1.27,5.675,6.765])\n",
        "x0 = np.zeros(4)\n",
        "\n",
        "x = seidel(A, b, x0)\n",
        "print(\"Solution:\", x)"
      ],
      "metadata": {
        "id": "6j8jr73goQK8",
        "colab": {
          "base_uri": "https://localhost:8080/"
        },
        "outputId": "d9a63a34-597f-4490-cffc-80994c778c01"
      },
      "execution_count": null,
      "outputs": [
        {
          "output_type": "stream",
          "name": "stdout",
          "text": [
            "Solution: None\n"
          ]
        }
      ]
    }
  ]
}