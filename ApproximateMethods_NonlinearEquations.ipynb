{
  "nbformat": 4,
  "nbformat_minor": 0,
  "metadata": {
    "colab": {
      "provenance": [],
      "authorship_tag": "ABX9TyMIXOdwjpk/V8o7j9EfXxR1"
    },
    "kernelspec": {
      "name": "python3",
      "display_name": "Python 3"
    },
    "language_info": {
      "name": "python"
    }
  },
  "cells": [
    {
      "cell_type": "markdown",
      "source": [
        "#Лабораторная работа №1\n",
        "ПРИБЛИЖЕННЫЕ МЕТОДЫ РЕШЕНИЯ НЕЛИНЕЙНЫХ СКАЛЯРНЫХ УРАВНЕНИЙ\n"
      ],
      "metadata": {
        "id": "WCtmE5tZ6axm"
      }
    },
    {
      "cell_type": "code",
      "source": [
        "import numpy as np\n",
        "import matplotlib.pyplot as plt\n",
        "import pandas as pd"
      ],
      "metadata": {
        "id": "pPgN167E7NWV"
      },
      "execution_count": 54,
      "outputs": []
    },
    {
      "cell_type": "markdown",
      "source": [
        "Программа построения таблицы значений функции"
      ],
      "metadata": {
        "id": "vGZQkfVBx2eD"
      }
    },
    {
      "cell_type": "code",
      "source": [
        "a = 0.1\n",
        "b = 5.1\n",
        "n = 10\n",
        "h = (b - a)/n;\n",
        "\n",
        "x = np.arange(a, b+h, h)\n",
        "y = np.sqrt(2*x) - np.cos(x/3)\n",
        "\n",
        "x_y = {\"x\": x, \"y\": y}\n",
        "data_frame = pd.DataFrame(x_y)\n",
        "print(data_frame)"
      ],
      "metadata": {
        "colab": {
          "base_uri": "https://localhost:8080/"
        },
        "id": "L0lIcaxyAvmE",
        "outputId": "420d6ffb-261f-466b-f374-ccd4e17471a1"
      },
      "execution_count": 55,
      "outputs": [
        {
          "output_type": "stream",
          "name": "stdout",
          "text": [
            "      x         y\n",
            "0   0.1 -0.552231\n",
            "1   0.6  0.115379\n",
            "2   1.1  0.549712\n",
            "3   1.6  0.927737\n",
            "4   2.1  1.284548\n",
            "5   2.6  1.632980\n",
            "6   3.1  1.978022\n",
            "7   3.6  2.320924\n",
            "8   4.1  2.660849\n",
            "9   4.6  2.995696\n",
            "10  5.1  3.322588\n"
          ]
        }
      ]
    },
    {
      "cell_type": "code",
      "source": [
        "def y(x):\n",
        "    return np.sqrt(2*x) - np.cos(x/3)\n",
        "\n",
        "def dy(x):\n",
        "    return np.sqrt(2)/(2*np.sqrt(x)) + (1/3)*np.sin(x/3)\n",
        "\n",
        "def d2y(x):\n",
        "    return -np.sqrt(2)/(4*x**(3/2)) + (1/6)*np.cos(x/3)"
      ],
      "metadata": {
        "id": "P4Tno35TBVgk"
      },
      "execution_count": 56,
      "outputs": []
    },
    {
      "cell_type": "code",
      "source": [
        "a = 0.1\n",
        "b = 5.1\n",
        "n = 10\n",
        "h = (b - a)/n;\n",
        "\n",
        "x = np.arange(a, b+h, h)\n",
        "y = np.sqrt(2*x) - np.cos(x/3)\n",
        "derivative_y_1 = np.sqrt(2)/(2*np.sqrt(x)) + (1/3)*np.sin(x/3)\n",
        "derivative_y_2 = -np.sqrt(2)/(4*x**(3/2)) + (1/6)*np.cos(x/3)\n",
        "\n",
        "x_y_der1_y_der2_y = {\"x\": x, \"y\": y, \"y'\": derivative_y_1, \"y''\": derivative_y_2}\n",
        "data_frame = pd.DataFrame(x_y_der1_y_der2_y)\n",
        "print(data_frame)"
      ],
      "metadata": {
        "colab": {
          "base_uri": "https://localhost:8080/"
        },
        "id": "84UBfn_q4yvS",
        "outputId": "1f8214b1-7b45-4eaf-ffe2-2c7b70f0afb8"
      },
      "execution_count": 45,
      "outputs": [
        {
          "output_type": "stream",
          "name": "stdout",
          "text": [
            "      x         y        y'        y''\n",
            "0   0.1 -0.552231  2.247177 -11.013766\n",
            "1   0.6  0.115379  0.979094  -0.597381\n",
            "2   1.1  0.549712  0.793702  -0.150867\n",
            "3   1.6  0.927737  0.728486  -0.031173\n",
            "4   2.1  1.284548  0.702689   0.011295\n",
            "5   2.6  1.632980  0.692587   0.023563\n",
            "6   3.1  1.978022  0.687946   0.020551\n",
            "7   3.6  2.320924  0.683358   0.008632\n",
            "8   4.1  2.660849  0.675628  -0.008801\n",
            "9   4.6  2.995696  0.662790  -0.029594\n",
            "10  5.1  3.322588  0.643667  -0.052171\n"
          ]
        }
      ]
    },
    {
      "cell_type": "markdown",
      "source": [
        "Программа построения графика функции"
      ],
      "metadata": {
        "id": "pSalA64jy8WJ"
      }
    },
    {
      "cell_type": "code",
      "source": [
        "# Создаём экземпляр класса figure и добавляем к FIgure область Axes\n",
        "fig, ax = plt.subplots()\n",
        "\n",
        "ax.set_title('f(x) = (2x)^(1/2) - cos(x/3)')\n",
        "ax.set_xlabel('x')\n",
        "ax.set_ylabel('y')\n",
        "\n",
        "x = np.linspace(0.1, 5.1, 10)\n",
        "y = np.sqrt(2*x) - np.cos(x/3)\n",
        "\n",
        "plt.plot(x, y)\n",
        "plt.grid(True)\n",
        "\n",
        "ax = plt.gca()\n",
        "\n",
        "# plot X - axis\n",
        "ax.axhline(y=0, color='k')\n",
        "\n",
        "# plot Y - axis\n",
        "ax.axvline(x=0, color='k')\n",
        "plt.show()"
      ],
      "metadata": {
        "colab": {
          "base_uri": "https://localhost:8080/",
          "height": 472
        },
        "id": "Z-l6QRasyGnS",
        "outputId": "6af53c7d-ce62-4672-e400-d87dbfb8fdd3"
      },
      "execution_count": 46,
      "outputs": [
        {
          "output_type": "display_data",
          "data": {
            "text/plain": [
              "<Figure size 640x480 with 1 Axes>"
            ],
            "image/png": "[encoded data removed]"
          },
          "metadata": {}
        }
      ]
    },
    {
      "cell_type": "code",
      "source": [
        "#Начальное приближение\n",
        "x0 = 0.1"
      ],
      "metadata": {
        "id": "ESwXeSfTAFna"
      },
      "execution_count": 87,
      "outputs": []
    },
    {
      "cell_type": "markdown",
      "source": [
        "Метод Ньютона"
      ],
      "metadata": {
        "id": "RjcOXlTa_ukf"
      }
    },
    {
      "cell_type": "code",
      "source": [
        "def newton_method(y, dy, x0, epsilon=1e-7):\n",
        "    iteration = 0\n",
        "    x1 = x0 - y(x0) / dy(x0)\n",
        "    while True:\n",
        "        if abs(x1 - x0) < epsilon:\n",
        "          break\n",
        "        iteration = iteration + 1\n",
        "        print(iteration,\" \", x1)\n",
        "        x0 = x1\n",
        "        x1 = x0 - y(x0) / dy(x0)\n",
        "    return x1"
      ],
      "metadata": {
        "id": "cqI5vAyC_yCx"
      },
      "execution_count": 88,
      "outputs": []
    },
    {
      "cell_type": "code",
      "source": [
        "new = newton_method(y, dy, x0)"
      ],
      "metadata": {
        "colab": {
          "base_uri": "https://localhost:8080/"
        },
        "id": "ZebV7RBCGRMv",
        "outputId": "68cb957b-8a35-4715-be12-eaf11bcd3be3"
      },
      "execution_count": 97,
      "outputs": [
        {
          "output_type": "stream",
          "name": "stdout",
          "text": [
            "1   0.34574427948368314\n",
            "2   0.4761409859777111\n",
            "3   0.4868906709366968\n",
            "4   0.48694234154490607\n"
          ]
        }
      ]
    },
    {
      "cell_type": "markdown",
      "source": [
        "Метод хорд"
      ],
      "metadata": {
        "id": "HQ-JIv4RQ5vJ"
      }
    },
    {
      "cell_type": "code",
      "source": [
        "def chord_method(y, a, b, eps=1e-7):\n",
        "    iteration = 0\n",
        "    x0 = a\n",
        "    while True:\n",
        "      x1 = a - (y(a)*(a - b))/y(a) - y(b)\n",
        "\n",
        "      if np.abs(x0 - x1) < eps:\n",
        "            return x1\n",
        "\n",
        "      if y(a)*y(x1) < 0:\n",
        "        b = x1\n",
        "      else:\n",
        "        a = x1\n",
        "\n",
        "      iteration = iteration + 1\n",
        "      print(iteration,\" \", x1)\n",
        "\n",
        "      x0 = x1"
      ],
      "metadata": {
        "id": "I11nsbhOQ4N3"
      },
      "execution_count": 91,
      "outputs": []
    },
    {
      "cell_type": "code",
      "source": [
        "c = chord_method(y, a, b)\n",
        "print(y(new), \" \", y(c))"
      ],
      "metadata": {
        "colab": {
          "base_uri": "https://localhost:8080/"
        },
        "id": "Vs4YC8mYZfUz",
        "outputId": "bd36c35e-78a3-4d1a-bffe-9f2f5bc9055a"
      },
      "execution_count": 100,
      "outputs": [
        {
          "output_type": "stream",
          "name": "stdout",
          "text": [
            "1   1.777411621170213\n",
            "2   0.7215513641398315\n",
            "3   0.4914741802050925\n",
            "4   0.48664737343473097\n",
            "0.0   -0.00031482775167002153\n"
          ]
        }
      ]
    },
    {
      "cell_type": "code",
      "source": [],
      "metadata": {
        "id": "JXcIEFhaaK-5"
      },
      "execution_count": null,
      "outputs": []
    }
  ]
}