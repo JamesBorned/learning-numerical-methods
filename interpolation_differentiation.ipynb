{
  "nbformat": 4,
  "nbformat_minor": 0,
  "metadata": {
    "colab": {
      "provenance": [],
      "authorship_tag": "ABX9TyNdbJWp8Yey+0O3HDeZEv9H"
    },
    "kernelspec": {
      "name": "python3",
      "display_name": "Python 3"
    },
    "language_info": {
      "name": "python"
    }
  },
  "cells": [
    {
      "cell_type": "markdown",
      "source": [
        "##Лабораторная работа №4"
      ],
      "metadata": {
        "id": "X5WJ-tHKOsq5"
      }
    },
    {
      "cell_type": "markdown",
      "source": [
        "###Численное интерполирование и дифференцирование"
      ],
      "metadata": {
        "id": "OWpm295WPNui"
      }
    },
    {
      "cell_type": "code",
      "source": [
        "import numpy as np"
      ],
      "metadata": {
        "id": "k8_1nZFLPoif"
      },
      "execution_count": 38,
      "outputs": []
    },
    {
      "cell_type": "code",
      "source": [
        "x = np.array([1.0, 1.10, 1.20, 1.30])\n",
        "y = np.array([0.90930, 0.80850, 0.67546, 0.51550])\n",
        "x0 = 1.13"
      ],
      "metadata": {
        "id": "xVSBz9GUP_NH"
      },
      "execution_count": 55,
      "outputs": []
    },
    {
      "cell_type": "code",
      "source": [
        "y_analytical = np.sin(2 * x0)\n",
        "analytical_derivative_1 = 2*np.cos(2*x0)"
      ],
      "metadata": {
        "id": "KFEh_cIAQFKY"
      },
      "execution_count": 40,
      "outputs": []
    },
    {
      "cell_type": "code",
      "source": [
        "def analytical_derivative_5(x):\n",
        "    return 32*np.cos(2*x)"
      ],
      "metadata": {
        "id": "mhMpU4lsY_3I"
      },
      "execution_count": 41,
      "outputs": []
    },
    {
      "cell_type": "markdown",
      "source": [
        "####Интерполяционный многочлен Лагранжа"
      ],
      "metadata": {
        "id": "V2e88-7Hmhox"
      }
    },
    {
      "cell_type": "code",
      "source": [
        "def lagrange_interpolation(x, y, x0):\n",
        "    n = len(x)\n",
        "    result = 0\n",
        "\n",
        "    for i in range(n):\n",
        "        yi = y[i]\n",
        "        for j in range(n):\n",
        "            if j != i:\n",
        "                yi *= (x0 - x[j])/(x[i] - x[j])\n",
        "        result += yi\n",
        "\n",
        "    return result"
      ],
      "metadata": {
        "id": "6HGglx3SZDjf"
      },
      "execution_count": 50,
      "outputs": []
    },
    {
      "cell_type": "markdown",
      "source": [
        "####Погрешность"
      ],
      "metadata": {
        "id": "N9t_3ZoEm4po"
      }
    },
    {
      "cell_type": "code",
      "source": [
        "def error_lagrange_interpolation(x0, x):\n",
        "    result = 1\n",
        "\n",
        "    for i in range(len(x)):\n",
        "        result *= np.abs(x0 - x[i])\n",
        "\n",
        "    maxn = 0\n",
        "    i = x[0]\n",
        "\n",
        "    while i < x[len(x)-1]:\n",
        "        if maxn < np.abs(analytical_derivative_5(i)):\n",
        "            maxn = np.abs(analytical_derivative_5(i))\n",
        "        i+=0.01\n",
        "\n",
        "    return np.abs(result)*(maxn/120)"
      ],
      "metadata": {
        "id": "c0X853JkjvzL"
      },
      "execution_count": 51,
      "outputs": []
    },
    {
      "cell_type": "code",
      "source": [
        "y_lagrange = lagrange_interpolation(x, y, x0)"
      ],
      "metadata": {
        "id": "ZwhcsyKdoid2"
      },
      "execution_count": 56,
      "outputs": []
    },
    {
      "cell_type": "code",
      "source": [
        "print(\"Значение функции в точке x = 1.13:\")\n",
        "print(\"1) аналитически:\", y_analytical)\n",
        "print(\"2) с помощью многочлена Лагранжа:\", y_lagrange)\n",
        "print(\"Погрешность при расчете многочлена Лагранжа: \", error_lagrange_interpolation(x0,x))"
      ],
      "metadata": {
        "colab": {
          "base_uri": "https://localhost:8080/"
        },
        "id": "IBhYsYqQpRDz",
        "outputId": "692e6b2c-56ff-4592-ae20-83b018b94ad0"
      },
      "execution_count": 57,
      "outputs": [
        {
          "output_type": "stream",
          "name": "stdout",
          "text": [
            "Значение функции в точке x = 1.13:\n",
            "1) аналитически: 0.7717526620201259\n",
            "2) с помощью многочлена Лагранжа: 0.7717311400000002\n",
            "Погрешность при расчете многочлена Лагранжа:  1.0475145918086383e-05\n"
          ]
        }
      ]
    },
    {
      "cell_type": "markdown",
      "source": [
        "####Левая, правая и центральная производные в этой точке и ее точное значение"
      ],
      "metadata": {
        "id": "b_sqUWhGulw1"
      }
    },
    {
      "cell_type": "code",
      "source": [
        "left_derivative = (lagrange_interpolation(x, y, x0) - lagrange_interpolation(x, y, x0 - 0.01))/0.01\n",
        "right_derivative = (lagrange_interpolation(x, y, x0 + 0.01) - lagrange_interpolation(x, y, x0))/0.01\n",
        "central_derivative = (lagrange_interpolation(x, y, x0 + 0.01) - lagrange_interpolation(x, y, x0 - 0.01))/(2*0.01)"
      ],
      "metadata": {
        "id": "4oU1SxSk-GSh"
      },
      "execution_count": 58,
      "outputs": []
    },
    {
      "cell_type": "code",
      "execution_count": null,
      "metadata": {
        "colab": {
          "base_uri": "https://localhost:8080/"
        },
        "id": "nr7HVFGNkJyY",
        "outputId": "1fc5ffb1-fdf7-4cc5-8cf2-af1309659dfb"
      },
      "outputs": [
        {
          "output_type": "stream",
          "name": "stdout",
          "text": [
            "Задание 1 Часть 1\n",
            "Значение функции в точке x = 1.18\n",
            "Аналитически: -0.7097925563621205\n",
            "Многочлен Лагранжа: -0.7097832\n",
            "Погрешность при расчете многочлена Лагранжа:  8.38008508562548e-06\n",
            "\n",
            "Производные в точке x = 1.18\n",
            "Левая производная: -1.4234650000000015\n",
            "Погрешность: 0.014643468459649034\n",
            "Правая производная: -1.3952450000000116\n",
            "Погрешность: 0.013576531540340886\n",
            "Центральная производная: -1.4093550000000066\n",
            "Погрешность: 0.000533468459654074\n",
            "Точное значение производной: -1.4088215315403525\n",
            "\n",
            "Задание 1 Часть 2\n",
            "Интерполяционная схема Эйткена: 1.0409890373582058\n",
            "\n",
            "Задание 2\n",
            "Точки: [0.   0.25 0.5  0.75 1.  ]\n",
            "\n",
            "Левые производные(численные):  ['-', -0.9193953882637205, -1.912898284830564, -1.1476913201066063, 0.6726977514736672]\n",
            "Погрешность:  ['-', 0.7635465813520725, 0.09430343117920037, 0.8654513039868719, 0.8409072391421895]\n",
            "\n",
            "Правые производные(численные):  [-0.9193953882637205, -1.912898284830564, -1.1476913201066063, 0.6726977514736672, '-']\n",
            "Погрешность:  [0.9193953882637205, 0.229956315214771, 0.6709035335447573, 0.9549377675934017, '-']\n",
            "\n",
            "Центральные производные(численные):  ['-', -0.08850917728419638, -0.09564342515428657, -0.014843549019779353, '-']\n",
            "Погрешность:  ['-', 1.5944327923315966, 1.722951428497077, 0.26739646709995507, '-']\n",
            "\n",
            "Вторые производные(численные):  ['-', -3.9740115862673733, 3.0608278588958306, 7.281556286321094, '-']\n",
            "Погрешность:  ['-', 0.34840686067774485, 0.2683468334813077, 0.6383836864824692, '-']\n",
            "\n",
            "Первые производные(аналитические):  [-0.0, -1.682941969615793, -1.8185948536513636, -0.2822400161197344, 1.5136049906158566]\n",
            "Вторые производные(аналитические):  [-8.0, -4.322418446945118, 3.3291746923771384, 7.919939972803563, 5.2291489669088955]\n",
            "\n",
            "Левая производная в точке m(численная):  -0.3946950299855745\n",
            "Погрешность:  [0.38414165463172645]\n",
            "\n",
            "Правая производная в точке m(численная):  -1.121771423278598\n",
            "Погрешность:  [0.3429347386612971]\n",
            "\n",
            "Центральная производная в точке m(численная):  -0.007582332266320863\n",
            "Погрешность:  [0.77125435235098]\n",
            "\n",
            "Вторая производная в точке m(численная):  -7.2707639329302225\n",
            "Погрешность:  [0.09772401909285833]\n",
            "Первая производная в точке m(аналитически):  -0.7788366846173009\n",
            "Вторая производная в точке m(аналитически):  -7.368487952023081\n",
            "\n",
            "Значение многочлена Лагранжа:  0.9733215944974046\n",
            "Погрешность:  0.012791097495962078\n",
            "Интерполяционная схема Эйткена:  0.9733215944974047\n",
            "Погрешность:  0.01279109749596219\n",
            "Значение функции в m:  0.9605304970014426\n"
          ]
        }
      ],
      "source": [
        "print(\"\\nПроизводные в точке x = 1.18\")\n",
        "print(\"Левая производная:\", left_derivative)\n",
        "print(\"Погрешность:\", np.abs(left_derivative-analytical_derivative_1))\n",
        "print(\"Правая производная:\", right_derivative)\n",
        "print(\"Погрешность:\", np.abs(right_derivative-analytical_derivative_1))\n",
        "print(\"Центральная производная:\", central_derivative)\n",
        "print(\"Погрешность:\", np.abs(central_derivative-analytical_derivative_1))\n",
        "print(\"Точное значение производной:\", analytical_derivative_1)\n",
        "\n",
        "x = [1.00, 1.08, 1.20, 1.27, 1.31, 1.38]\n",
        "y = [1.17520, 1.30254, 1.50946, 1.21730, 1.22361, 1.23470]\n",
        "x_star = 1.048\n",
        "def aitken_interpolation(x, y, x_star):\n",
        "    n = len(x)\n",
        "    f = [[0] * n for _ in range(n)]\n",
        "\n",
        "    for i in range(n):\n",
        "        f[i][0] = y[i]\n",
        "\n",
        "    for j in range(1, n):\n",
        "        for i in range(n - j):\n",
        "            f[i][j] = ((x_star - x[i]) * f[i + 1][j - 1] - (x_star - x[i + j]) * f[i][j - 1]) / (x[i + j] - x[i])\n",
        "\n",
        "    return f[0][n - 1]\n",
        "result = aitken_interpolation(x, y, x_star)\n",
        "print(\"\\nЗадание 1 Часть 2\")\n",
        "print(\"Интерполяционная схема Эйткена:\", aitken_interpolation(x, y, x_star))\n",
        "\n",
        "a = 0\n",
        "b = 1\n",
        "n = 5\n",
        "m = 0.1\n",
        "def f(x):\n",
        "    return np.cos(2*x)**2\n",
        "def f_der_1(x):\n",
        "    return -4*np.cos(2*x)*np.sin(2*x)\n",
        "def f_der_2(x):\n",
        "    return 8*np.sin(2*x)**2-8*np.cos(2*x)**2\n",
        "x = np.linspace(a,b,5)\n",
        "def left_derivative_app(x):\n",
        "    result = [\"-\"]\n",
        "    i = x[1]\n",
        "    step = x[1]-x[0]\n",
        "    while i <= x[len(x)-1]:\n",
        "        result.append((f(i)-f(i-step))/step)\n",
        "        i += step\n",
        "    return result\n",
        "def right_derivative_app(x):\n",
        "    result = []\n",
        "    i = x[0]\n",
        "    step = x[1]-x[0]\n",
        "    while i < x[len(x)-1]:\n",
        "        result.append((f(i+step)-f(i))/step)\n",
        "        i += step\n",
        "    result.append(\"-\")\n",
        "    return result\n",
        "def central_derivative_app(x):\n",
        "    result = [\"-\"]\n",
        "    i = x[1]\n",
        "    step = x[1]-x[0]\n",
        "    while i < x[len(x)-1]:\n",
        "        result.append((f(i+step)-f(i-step))/2*step)\n",
        "        i += step\n",
        "    result.append(\"-\")\n",
        "    return result\n",
        "def derivative_2_app(x):\n",
        "    result = [\"-\"]\n",
        "    i = x[1]\n",
        "    step = x[1]-x[0]\n",
        "    while i < x[len(x)-1]:\n",
        "        result.append((f(i+step)+f(i-step)-2*f(i))/step**2)\n",
        "        i += step\n",
        "    result.append(\"-\")\n",
        "    return result\n",
        "\n",
        "def left_derivative_m_app(x, m):\n",
        "    if m < (x[len(x)-1]+x[0])/2:\n",
        "        step = np.abs(m-x[0])\n",
        "    else:\n",
        "        step = np.abs(x[len(x)-1]-m)\n",
        "    result = (f(m)-f(m-step))/step\n",
        "    return result\n",
        "def right_derivative_m_app(x, m):\n",
        "    if m < (x[len(x)-1]+x[0])/2:\n",
        "        step = np.abs(m-x[0])\n",
        "    else:\n",
        "        step = np.abs(x[len(x)-1]-m)\n",
        "    result = (f(m+step)-f(m))/step\n",
        "    return result\n",
        "def central_derivative_m_app(x, m):\n",
        "    if m < (x[len(x)-1]+x[0])/2:\n",
        "        step = np.abs(m-x[0])\n",
        "    else:\n",
        "        step = np.abs(x[len(x)-1]-m)\n",
        "    result = (f(m+step)-f(m-step))/2*step\n",
        "    return result\n",
        "def derivative_2_m_app(x, m):\n",
        "    if m < (x[len(x)-1]+x[0])/2:\n",
        "        step = np.abs(m-x[0])\n",
        "    else:\n",
        "        step = np.abs(x[len(x)-1]-m)\n",
        "    result = (f(m+step)+f(m-step)-2*f(m))/step**2\n",
        "    return result\n",
        "\n",
        "def calc_ders(x):\n",
        "    tmp1 = []\n",
        "    tmp2 = []\n",
        "    i = x[0]\n",
        "    while i <= x[len(x)-1]:\n",
        "        tmp1.append(f_der_1(i))\n",
        "        tmp2.append(f_der_2(i))\n",
        "        i += x[1]-x[0]\n",
        "    return tmp1, tmp2\n",
        "ders_1, ders_2 = calc_ders(x)\n",
        "def calc_m(x,m):\n",
        "    tmp = []\n",
        "    i = x[0]\n",
        "    while i <= x[len(x)-1]:\n",
        "        tmp.append(f(i))\n",
        "        i += x[1]-x[0]\n",
        "    return lagrange_interpolation(x, tmp, m), aitken_interpolation(x, tmp, m)\n",
        "li,ai = calc_m(x,m)\n",
        "\n",
        "def error_derivatives(array_analitical, array_approximate):\n",
        "    results = []\n",
        "    for i in range(len(array_analitical)):\n",
        "        if array_approximate[i] != \"-\":\n",
        "            results.append(np.abs(array_analitical[i]-float(array_approximate[i])))\n",
        "        else:\n",
        "            results.append(\"-\")\n",
        "    return results\n",
        "\n",
        "\n",
        "print(\"\\nЗадание 2\")\n",
        "\n",
        "print(\"Точки:\", x)\n",
        "print(\"\\nЛевые производные(численные): \", left_derivative_app(x))\n",
        "print(\"Погрешность: \", error_derivatives(ders_1,left_derivative_app(x)))\n",
        "print(\"\\nПравые производные(численные): \", right_derivative_app(x))\n",
        "print(\"Погрешность: \", error_derivatives(ders_1,right_derivative_app(x)))\n",
        "print(\"\\nЦентральные производные(численные): \", central_derivative_app(x))\n",
        "print(\"Погрешность: \", error_derivatives(ders_1,central_derivative_app(x)))\n",
        "print(\"\\nВторые производные(численные): \", derivative_2_app(x))\n",
        "print(\"Погрешность: \", error_derivatives(ders_2,derivative_2_app(x)))\n",
        "print(\"\\nПервые производные(аналитические): \", ders_1)\n",
        "print(\"Вторые производные(аналитические): \", ders_2)\n",
        "\n",
        "print(\"\\nЛевая производная в точке m(численная): \", left_derivative_m_app(x, m))\n",
        "print(\"Погрешность: \", error_derivatives([f_der_1(m)],[left_derivative_m_app(x, m)]))\n",
        "print(\"\\nПравая производная в точке m(численная): \", right_derivative_m_app(x, m))\n",
        "print(\"Погрешность: \", error_derivatives([f_der_1(m)],[right_derivative_m_app(x, m)]))\n",
        "print(\"\\nЦентральная производная в точке m(численная): \", central_derivative_m_app(x, m))\n",
        "print(\"Погрешность: \", error_derivatives([f_der_1(m)],[central_derivative_m_app(x, m)]))\n",
        "print(\"\\nВторая производная в точке m(численная): \", derivative_2_m_app(x, m))\n",
        "print(\"Погрешность: \", error_derivatives([f_der_2(m)],[derivative_2_m_app(x, m)]))\n",
        "print(\"Первая производная в точке m(аналитически): \", f_der_1(m))\n",
        "print(\"Вторая производная в точке m(аналитически): \", f_der_2(m))\n",
        "\n",
        "print(\"\\nЗначение многочлена Лагранжа: \", li)\n",
        "print(\"Погрешность: \", np.abs(f(m)-li))\n",
        "print(\"Интерполяционная схема Эйткена: \", ai)\n",
        "print(\"Погрешность: \", np.abs(f(m)-ai))\n",
        "print(\"Значение функции в m: \", f(m))\n"
      ]
    }
  ]
}